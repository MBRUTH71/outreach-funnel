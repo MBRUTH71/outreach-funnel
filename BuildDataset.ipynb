{
 "cells": [
  {
   "cell_type": "code",
   "execution_count": 1,
   "metadata": {},
   "outputs": [],
   "source": [
    "import pandas as pd\n",
    "import numpy as np\n",
    "from datetime import timedelta"
   ]
  },
  {
   "cell_type": "markdown",
   "metadata": {},
   "source": [
    "### Make a dataframe of contacts\n",
    "\n",
    "Two columns total.  A ContactID, and an indicator of list or referral.\n",
    "105200 total contacts:\n",
    "1. 50000 contacts from a PA list,\n",
    "2. 50000 contacts from a MD list,\n",
    "3. 5200 contacts on no list but called in based on a referral (RF)\n"
   ]
  },
  {
   "cell_type": "markdown",
   "metadata": {},
   "source": [
    "### Columns\n",
    "- **ContactID**: unique identitier for the contact\n",
    "- **ListID**: identities the source of the contact information.  Possible values are PA for Pennsylvania list, MD for Maryland list, or RF for Referral contact"
   ]
  },
  {
   "cell_type": "code",
   "execution_count": 2,
   "metadata": {},
   "outputs": [],
   "source": [
    "nums = pd.Series(np.arange(10001,60001,1))"
   ]
  },
  {
   "cell_type": "code",
   "execution_count": 3,
   "metadata": {},
   "outputs": [],
   "source": [
    "pa = pd.Series('PA', index=range(50000))\n",
    "md = pd.Series('MD', index=range(50000))"
   ]
  },
  {
   "cell_type": "code",
   "execution_count": 4,
   "metadata": {},
   "outputs": [],
   "source": [
    "pa_df = pd.DataFrame({'ListID': pa, 'CtNum': nums})\n",
    "pa_df['ContactID'] = pa_df['ListID'] + pa_df['CtNum'].astype(str)"
   ]
  },
  {
   "cell_type": "code",
   "execution_count": 5,
   "metadata": {},
   "outputs": [],
   "source": [
    "md_df = pd.DataFrame({'ListID': md, 'CtNum': nums})\n",
    "md_df['ContactID'] = md_df['ListID'] + md_df['CtNum'].astype(str)"
   ]
  },
  {
   "cell_type": "code",
   "execution_count": 6,
   "metadata": {},
   "outputs": [],
   "source": [
    "contacts_df = pd.concat([pa_df, md_df], ignore_index=True)"
   ]
  },
  {
   "cell_type": "code",
   "execution_count": 7,
   "metadata": {},
   "outputs": [],
   "source": [
    "contacts_df = contacts_df.drop('CtNum', axis=1)"
   ]
  },
  {
   "cell_type": "code",
   "execution_count": 8,
   "metadata": {},
   "outputs": [
    {
     "data": {
      "text/html": [
       "<div>\n",
       "<style scoped>\n",
       "    .dataframe tbody tr th:only-of-type {\n",
       "        vertical-align: middle;\n",
       "    }\n",
       "\n",
       "    .dataframe tbody tr th {\n",
       "        vertical-align: top;\n",
       "    }\n",
       "\n",
       "    .dataframe thead th {\n",
       "        text-align: right;\n",
       "    }\n",
       "</style>\n",
       "<table border=\"1\" class=\"dataframe\">\n",
       "  <thead>\n",
       "    <tr style=\"text-align: right;\">\n",
       "      <th></th>\n",
       "      <th>ListID</th>\n",
       "      <th>ContactID</th>\n",
       "    </tr>\n",
       "  </thead>\n",
       "  <tbody>\n",
       "    <tr>\n",
       "      <th>0</th>\n",
       "      <td>PA</td>\n",
       "      <td>PA10001</td>\n",
       "    </tr>\n",
       "    <tr>\n",
       "      <th>1</th>\n",
       "      <td>PA</td>\n",
       "      <td>PA10002</td>\n",
       "    </tr>\n",
       "    <tr>\n",
       "      <th>2</th>\n",
       "      <td>PA</td>\n",
       "      <td>PA10003</td>\n",
       "    </tr>\n",
       "    <tr>\n",
       "      <th>3</th>\n",
       "      <td>PA</td>\n",
       "      <td>PA10004</td>\n",
       "    </tr>\n",
       "    <tr>\n",
       "      <th>4</th>\n",
       "      <td>PA</td>\n",
       "      <td>PA10005</td>\n",
       "    </tr>\n",
       "    <tr>\n",
       "      <th>...</th>\n",
       "      <td>...</td>\n",
       "      <td>...</td>\n",
       "    </tr>\n",
       "    <tr>\n",
       "      <th>99995</th>\n",
       "      <td>MD</td>\n",
       "      <td>MD59996</td>\n",
       "    </tr>\n",
       "    <tr>\n",
       "      <th>99996</th>\n",
       "      <td>MD</td>\n",
       "      <td>MD59997</td>\n",
       "    </tr>\n",
       "    <tr>\n",
       "      <th>99997</th>\n",
       "      <td>MD</td>\n",
       "      <td>MD59998</td>\n",
       "    </tr>\n",
       "    <tr>\n",
       "      <th>99998</th>\n",
       "      <td>MD</td>\n",
       "      <td>MD59999</td>\n",
       "    </tr>\n",
       "    <tr>\n",
       "      <th>99999</th>\n",
       "      <td>MD</td>\n",
       "      <td>MD60000</td>\n",
       "    </tr>\n",
       "  </tbody>\n",
       "</table>\n",
       "<p>100000 rows × 2 columns</p>\n",
       "</div>"
      ],
      "text/plain": [
       "      ListID ContactID\n",
       "0         PA   PA10001\n",
       "1         PA   PA10002\n",
       "2         PA   PA10003\n",
       "3         PA   PA10004\n",
       "4         PA   PA10005\n",
       "...      ...       ...\n",
       "99995     MD   MD59996\n",
       "99996     MD   MD59997\n",
       "99997     MD   MD59998\n",
       "99998     MD   MD59999\n",
       "99999     MD   MD60000\n",
       "\n",
       "[100000 rows x 2 columns]"
      ]
     },
     "execution_count": 8,
     "metadata": {},
     "output_type": "execute_result"
    }
   ],
   "source": [
    "contacts_df"
   ]
  },
  {
   "cell_type": "markdown",
   "metadata": {},
   "source": [
    "### Make a dataframe for outreach.\n",
    "\n",
    "On the first of every month, 10000 letters are mailed. There are 5000 each for the PA and MD list.  Half the outreach are letter \"A\" and half are letter \"B\".  Additionally, half of the recipients recieve a followup email, and there is a column to indicate whether there was followup."
   ]
  },
  {
   "cell_type": "markdown",
   "metadata": {},
   "source": [
    "### Columns\n",
    "- **OutreachID**: unique identifier\n",
    "- **ContactID**: Foreign key for the contact table\n",
    "- **Outreach Date**: Date of the outreach letter, always the first of the month\n",
    "- **LetterID**:  Identities the letter type that was sent for outreach\n",
    "- **FollowupInd**: Indicates whether the letter had a text followup sent"
   ]
  },
  {
   "cell_type": "code",
   "execution_count": 9,
   "metadata": {},
   "outputs": [],
   "source": [
    "jan_1 = pd.concat([contacts_df.loc[0:4999, 'ContactID'], contacts_df.loc[50000:54999, 'ContactID']], ignore_index=True)\n",
    "feb_1 = pd.concat([contacts_df.loc[5000:9999, 'ContactID'], contacts_df.loc[55000:59999, 'ContactID']], ignore_index=True)\n",
    "mar_1 = pd.concat([contacts_df.loc[10000:14999, 'ContactID'], contacts_df.loc[60000:64999, 'ContactID']], ignore_index=True)\n",
    "apr_1 = pd.concat([contacts_df.loc[15000:19999, 'ContactID'], contacts_df.loc[65000:69999, 'ContactID']], ignore_index=True)\n",
    "may_1 = pd.concat([contacts_df.loc[20000:24999, 'ContactID'], contacts_df.loc[70000:74999, 'ContactID']], ignore_index=True)\n",
    "jun_1 = pd.concat([contacts_df.loc[25000:29999, 'ContactID'], contacts_df.loc[75000:79999, 'ContactID']], ignore_index=True)\n",
    "jul_1 = pd.concat([contacts_df.loc[30000:34999, 'ContactID'], contacts_df.loc[80000:84999, 'ContactID']], ignore_index=True)\n",
    "aug_1 = pd.concat([contacts_df.loc[35000:39999, 'ContactID'], contacts_df.loc[85000:89999, 'ContactID']], ignore_index=True)\n",
    "sep_1 = pd.concat([contacts_df.loc[40000:44999, 'ContactID'], contacts_df.loc[90000:94999, 'ContactID']], ignore_index=True)\n",
    "oct_1 = pd.concat([contacts_df.loc[45000:49999, 'ContactID'], contacts_df.loc[95000:99999, 'ContactID']], ignore_index=True)\n",
    "contact_id = pd.concat([jan_1, feb_1, mar_1, apr_1, may_1, jun_1, jul_1, aug_1, sep_1, oct_1], ignore_index=True)"
   ]
  },
  {
   "cell_type": "code",
   "execution_count": 10,
   "metadata": {},
   "outputs": [],
   "source": [
    "jan_2 = pd.Series('2025-01-01', index=range(10000))\n",
    "feb_2 = pd.Series('2025-02-01', index=range(10000))\n",
    "mar_2 = pd.Series('2025-03-01', index=range(10000))\n",
    "apr_2 = pd.Series('2025-04-01', index=range(10000))\n",
    "may_2 = pd.Series('2025-05-01', index=range(10000))\n",
    "jun_2 = pd.Series('2025-06-01', index=range(10000))\n",
    "jul_2 = pd.Series('2025-07-01', index=range(10000))\n",
    "aug_2 = pd.Series('2025-08-01', index=range(10000))\n",
    "sep_2 = pd.Series('2025-09-01', index=range(10000))\n",
    "oct_2 = pd.Series('2025-10-01', index=range(10000))\n",
    "contact_date = pd.concat([jan_2, feb_2, mar_2, apr_2, may_2, jun_2, jul_2, aug_2, sep_2, oct_2], ignore_index=True)"
   ]
  },
  {
   "cell_type": "code",
   "execution_count": 11,
   "metadata": {},
   "outputs": [],
   "source": [
    "Letter_sent = [\"A\",\"A\",\"B\",\"B\"]* 25000\n",
    "Text_fu = [\"Y\",\"N\",\"Y\",\"N\"]* 25000\n",
    "out = pd.Series('OUT', index=range(100000))\n",
    "nums_out = pd.Series(np.arange(100001,200001,1))\n",
    "out_id = out + nums_out.astype(str)"
   ]
  },
  {
   "cell_type": "code",
   "execution_count": 12,
   "metadata": {},
   "outputs": [],
   "source": [
    "outreach_df = pd.DataFrame({'OutreachID': out_id, 'ContactID': contact_id, 'OutreachDate': contact_date, 'LetterID': Letter_sent, 'FollowupInd': Text_fu})"
   ]
  },
  {
   "cell_type": "code",
   "execution_count": 13,
   "metadata": {},
   "outputs": [
    {
     "data": {
      "text/html": [
       "<div>\n",
       "<style scoped>\n",
       "    .dataframe tbody tr th:only-of-type {\n",
       "        vertical-align: middle;\n",
       "    }\n",
       "\n",
       "    .dataframe tbody tr th {\n",
       "        vertical-align: top;\n",
       "    }\n",
       "\n",
       "    .dataframe thead th {\n",
       "        text-align: right;\n",
       "    }\n",
       "</style>\n",
       "<table border=\"1\" class=\"dataframe\">\n",
       "  <thead>\n",
       "    <tr style=\"text-align: right;\">\n",
       "      <th></th>\n",
       "      <th>OutreachID</th>\n",
       "      <th>ContactID</th>\n",
       "      <th>OutreachDate</th>\n",
       "      <th>LetterID</th>\n",
       "      <th>FollowupInd</th>\n",
       "    </tr>\n",
       "  </thead>\n",
       "  <tbody>\n",
       "    <tr>\n",
       "      <th>0</th>\n",
       "      <td>OUT100001</td>\n",
       "      <td>PA10001</td>\n",
       "      <td>2025-01-01</td>\n",
       "      <td>A</td>\n",
       "      <td>Y</td>\n",
       "    </tr>\n",
       "    <tr>\n",
       "      <th>1</th>\n",
       "      <td>OUT100002</td>\n",
       "      <td>PA10002</td>\n",
       "      <td>2025-01-01</td>\n",
       "      <td>A</td>\n",
       "      <td>N</td>\n",
       "    </tr>\n",
       "    <tr>\n",
       "      <th>2</th>\n",
       "      <td>OUT100003</td>\n",
       "      <td>PA10003</td>\n",
       "      <td>2025-01-01</td>\n",
       "      <td>B</td>\n",
       "      <td>Y</td>\n",
       "    </tr>\n",
       "    <tr>\n",
       "      <th>3</th>\n",
       "      <td>OUT100004</td>\n",
       "      <td>PA10004</td>\n",
       "      <td>2025-01-01</td>\n",
       "      <td>B</td>\n",
       "      <td>N</td>\n",
       "    </tr>\n",
       "    <tr>\n",
       "      <th>4</th>\n",
       "      <td>OUT100005</td>\n",
       "      <td>PA10005</td>\n",
       "      <td>2025-01-01</td>\n",
       "      <td>A</td>\n",
       "      <td>Y</td>\n",
       "    </tr>\n",
       "    <tr>\n",
       "      <th>...</th>\n",
       "      <td>...</td>\n",
       "      <td>...</td>\n",
       "      <td>...</td>\n",
       "      <td>...</td>\n",
       "      <td>...</td>\n",
       "    </tr>\n",
       "    <tr>\n",
       "      <th>99995</th>\n",
       "      <td>OUT199996</td>\n",
       "      <td>MD59996</td>\n",
       "      <td>2025-10-01</td>\n",
       "      <td>B</td>\n",
       "      <td>N</td>\n",
       "    </tr>\n",
       "    <tr>\n",
       "      <th>99996</th>\n",
       "      <td>OUT199997</td>\n",
       "      <td>MD59997</td>\n",
       "      <td>2025-10-01</td>\n",
       "      <td>A</td>\n",
       "      <td>Y</td>\n",
       "    </tr>\n",
       "    <tr>\n",
       "      <th>99997</th>\n",
       "      <td>OUT199998</td>\n",
       "      <td>MD59998</td>\n",
       "      <td>2025-10-01</td>\n",
       "      <td>A</td>\n",
       "      <td>N</td>\n",
       "    </tr>\n",
       "    <tr>\n",
       "      <th>99998</th>\n",
       "      <td>OUT199999</td>\n",
       "      <td>MD59999</td>\n",
       "      <td>2025-10-01</td>\n",
       "      <td>B</td>\n",
       "      <td>Y</td>\n",
       "    </tr>\n",
       "    <tr>\n",
       "      <th>99999</th>\n",
       "      <td>OUT200000</td>\n",
       "      <td>MD60000</td>\n",
       "      <td>2025-10-01</td>\n",
       "      <td>B</td>\n",
       "      <td>N</td>\n",
       "    </tr>\n",
       "  </tbody>\n",
       "</table>\n",
       "<p>100000 rows × 5 columns</p>\n",
       "</div>"
      ],
      "text/plain": [
       "      OutreachID ContactID OutreachDate LetterID FollowupInd\n",
       "0      OUT100001   PA10001   2025-01-01        A           Y\n",
       "1      OUT100002   PA10002   2025-01-01        A           N\n",
       "2      OUT100003   PA10003   2025-01-01        B           Y\n",
       "3      OUT100004   PA10004   2025-01-01        B           N\n",
       "4      OUT100005   PA10005   2025-01-01        A           Y\n",
       "...          ...       ...          ...      ...         ...\n",
       "99995  OUT199996   MD59996   2025-10-01        B           N\n",
       "99996  OUT199997   MD59997   2025-10-01        A           Y\n",
       "99997  OUT199998   MD59998   2025-10-01        A           N\n",
       "99998  OUT199999   MD59999   2025-10-01        B           Y\n",
       "99999  OUT200000   MD60000   2025-10-01        B           N\n",
       "\n",
       "[100000 rows x 5 columns]"
      ]
     },
     "execution_count": 13,
     "metadata": {},
     "output_type": "execute_result"
    }
   ],
   "source": [
    "outreach_df"
   ]
  },
  {
   "cell_type": "markdown",
   "metadata": {},
   "source": [
    "### Make a dataframe of Answered Calls\n",
    "\n",
    "In response to the outreach letters, some contacts will call the contact center to go through screening.  The 'Response Rate' is defined as the number of callers divided by the number of letters sent.  Since this is fabricated datase, by design we are varying the Response Rate based on four variables: \n",
    "- Response rates are higher from PA than from MD\n",
    "- Response rates to Letter A and higher than to Letter B\n",
    "- Response rates are higher for recipients of a followup text\n",
    "- Response rates are higher for the first half of the year.  By the second half the data has become stale\n",
    "\n",
    "This leads to 16 possible segments which are assigned to the outreach table, and then responses are pulled into a call table."
   ]
  },
  {
   "cell_type": "markdown",
   "metadata": {},
   "source": [
    "### Columns:\n",
    "\n",
    "- **CallID**: unique identifier\n",
    "- **OutreachID**: Foreign Key to outreach table\n",
    "- **ContactID**: Foreign Key to contact table\n",
    "- **OutreachDate**: Date Outreach was sent\n",
    "- **CallDate**: Date Call was receive\n",
    "- **CallLag**: days between outreach sent and call received"
   ]
  },
  {
   "cell_type": "code",
   "execution_count": 14,
   "metadata": {},
   "outputs": [],
   "source": [
    "conditions = [\n",
    " (outreach_df['LetterID'] == 'A') & (outreach_df['FollowupInd'] == 'Y') & (outreach_df['OutreachDate'] < '2025-05-15') & (outreach_df['ContactID'].str.startswith('PA')),\n",
    " (outreach_df['LetterID'] == 'B') & (outreach_df['FollowupInd'] == 'Y') & (outreach_df['OutreachDate'] < '2025-05-15') & (outreach_df['ContactID'].str.startswith('PA')),\n",
    " (outreach_df['LetterID'] == 'A') & (outreach_df['FollowupInd'] == 'N') & (outreach_df['OutreachDate'] < '2025-05-15') & (outreach_df['ContactID'].str.startswith('PA')),\n",
    " (outreach_df['LetterID'] == 'B') & (outreach_df['FollowupInd'] == 'N') & (outreach_df['OutreachDate'] < '2025-05-15') & (outreach_df['ContactID'].str.startswith('PA')),\n",
    " (outreach_df['LetterID'] == 'A') & (outreach_df['FollowupInd'] == 'Y') & (outreach_df['OutreachDate'] > '2025-05-15') & (outreach_df['ContactID'].str.startswith('PA')),\n",
    " (outreach_df['LetterID'] == 'B') & (outreach_df['FollowupInd'] == 'Y') & (outreach_df['OutreachDate'] > '2025-05-15') & (outreach_df['ContactID'].str.startswith('PA')),\n",
    " (outreach_df['LetterID'] == 'A') & (outreach_df['FollowupInd'] == 'N') & (outreach_df['OutreachDate'] > '2025-05-15') & (outreach_df['ContactID'].str.startswith('PA')),\n",
    " (outreach_df['LetterID'] == 'B') & (outreach_df['FollowupInd'] == 'N') & (outreach_df['OutreachDate'] > '2025-05-15') & (outreach_df['ContactID'].str.startswith('PA')),\n",
    " (outreach_df['LetterID'] == 'A') & (outreach_df['FollowupInd'] == 'Y') & (outreach_df['OutreachDate'] < '2025-05-15') & (outreach_df['ContactID'].str.startswith('MD')),\n",
    " (outreach_df['LetterID'] == 'B') & (outreach_df['FollowupInd'] == 'Y') & (outreach_df['OutreachDate'] < '2025-05-15') & (outreach_df['ContactID'].str.startswith('MD')),\n",
    " (outreach_df['LetterID'] == 'A') & (outreach_df['FollowupInd'] == 'N') & (outreach_df['OutreachDate'] < '2025-05-15') & (outreach_df['ContactID'].str.startswith('MD')),\n",
    " (outreach_df['LetterID'] == 'B') & (outreach_df['FollowupInd'] == 'N') & (outreach_df['OutreachDate'] < '2025-05-15') & (outreach_df['ContactID'].str.startswith('MD')),\n",
    " (outreach_df['LetterID'] == 'A') & (outreach_df['FollowupInd'] == 'Y') & (outreach_df['OutreachDate'] > '2025-05-15') & (outreach_df['ContactID'].str.startswith('MD')),\n",
    " (outreach_df['LetterID'] == 'B') & (outreach_df['FollowupInd'] == 'Y') & (outreach_df['OutreachDate'] > '2025-05-15') & (outreach_df['ContactID'].str.startswith('MD')),\n",
    " (outreach_df['LetterID'] == 'A') & (outreach_df['FollowupInd'] == 'N') & (outreach_df['OutreachDate'] > '2025-05-15') & (outreach_df['ContactID'].str.startswith('MD')),\n",
    " (outreach_df['LetterID'] == 'B') & (outreach_df['FollowupInd'] == 'N') & (outreach_df['OutreachDate'] > '2025-05-15') & (outreach_df['ContactID'].str.startswith('MD'))\n",
    "]\n",
    "segments = [1,2,3,4,5,6,7,8,9,10,11,12,13,14,15,16]"
   ]
  },
  {
   "cell_type": "code",
   "execution_count": 15,
   "metadata": {},
   "outputs": [],
   "source": [
    "outreach_df['OutreachSegment'] = np.select(conditions,segments)"
   ]
  },
  {
   "cell_type": "code",
   "execution_count": 16,
   "metadata": {
    "scrolled": true
   },
   "outputs": [],
   "source": [
    "# df = pd.concat([df, new_row_df], ignore_index=True)\n",
    "calls_df_a = outreach_df.query(\"OutreachSegment == 1\").sample(frac=0.18)\n",
    "calls_df_a = pd.concat([calls_df_a, outreach_df.query(\"OutreachSegment == 2\").sample(frac=0.13)], ignore_index = True)\n",
    "calls_df_b = outreach_df.query(\"OutreachSegment == 3\").sample(frac=0.13)\n",
    "calls_df_b = pd.concat([calls_df_b, outreach_df.query(\"OutreachSegment == 4\").sample(frac=0.09)], ignore_index = True)\n",
    "calls_df_a = pd.concat([calls_df_a, outreach_df.query(\"OutreachSegment == 5\").sample(frac=0.15)], ignore_index = True)\n",
    "calls_df_a = pd.concat([calls_df_a, outreach_df.query(\"OutreachSegment == 6\").sample(frac=0.11)], ignore_index = True)\n",
    "calls_df_b = pd.concat([calls_df_b, outreach_df.query(\"OutreachSegment == 7\").sample(frac=0.10)], ignore_index = True)\n",
    "calls_df_b = pd.concat([calls_df_b, outreach_df.query(\"OutreachSegment == 8\").sample(frac=0.08)], ignore_index = True)\n",
    "calls_df_a = pd.concat([calls_df_a, outreach_df.query(\"OutreachSegment == 9\").sample(frac=0.15)], ignore_index = True)\n",
    "calls_df_a = pd.concat([calls_df_a, outreach_df.query(\"OutreachSegment == 10\").sample(frac=0.11)], ignore_index = True)\n",
    "calls_df_b = pd.concat([calls_df_b, outreach_df.query(\"OutreachSegment == 11\").sample(frac=0.10)], ignore_index = True)\n",
    "calls_df_b = pd.concat([calls_df_b, outreach_df.query(\"OutreachSegment == 12\").sample(frac=0.08)], ignore_index = True)\n",
    "calls_df_a = pd.concat([calls_df_a, outreach_df.query(\"OutreachSegment == 13\").sample(frac=0.12)], ignore_index = True)\n",
    "calls_df_a = pd.concat([calls_df_a, outreach_df.query(\"OutreachSegment == 14\").sample(frac=0.09)], ignore_index = True)\n",
    "calls_df_b = pd.concat([calls_df_b, outreach_df.query(\"OutreachSegment == 15\").sample(frac=0.08)], ignore_index = True)\n",
    "calls_df_b = pd.concat([calls_df_b, outreach_df.query(\"OutreachSegment == 16\").sample(frac=0.06)], ignore_index = True)"
   ]
  },
  {
   "cell_type": "markdown",
   "metadata": {},
   "source": [
    "The timing of response to each segment of mail outreach follows a random distribution below to generate a 'Call Lag' which is the number of days between mailing and response.\n",
    "\n",
    "We give a slightly different lag based on whether followup text was sent."
   ]
  },
  {
   "cell_type": "code",
   "execution_count": 17,
   "metadata": {
    "scrolled": true
   },
   "outputs": [
    {
     "data": {
      "text/plain": [
       "<Axes: >"
      ]
     },
     "execution_count": 17,
     "metadata": {},
     "output_type": "execute_result"
    },
    {
     "data": {
      "image/png": "[encoded data removed]",
      "text/plain": [
       "<Figure size 640x480 with 1 Axes>"
      ]
     },
     "metadata": {},
     "output_type": "display_data"
    }
   ],
   "source": [
    "numbers_a = np.random.beta(2, 6, len(calls_df_a))*50\n",
    "rnd_num_a = pd.Series([round(num, 0) for num in numbers_a])\n",
    "calls_df_a['CallLag'] = rnd_num_a\n",
    "numbers_b = np.random.beta(4, 4, len(calls_df_b))*50\n",
    "rnd_num_b = pd.Series([round(num, 0) for num in numbers_b])\n",
    "calls_df_b['CallLag'] = rnd_num_b\n",
    "calls_df = pd.concat([calls_df_a,calls_df_b], ignore_index = True)\n",
    "rnd_num_a.hist(bins=9) # Creates a histogram with 5 bins"
   ]
  },
  {
   "cell_type": "code",
   "execution_count": 18,
   "metadata": {},
   "outputs": [
    {
     "data": {
      "text/plain": [
       "<Axes: >"
      ]
     },
     "execution_count": 18,
     "metadata": {},
     "output_type": "execute_result"
    },
    {
     "data": {
      "image/png": "[encoded data removed]",
      "text/plain": [
       "<Figure size 640x480 with 1 Axes>"
      ]
     },
     "metadata": {},
     "output_type": "display_data"
    }
   ],
   "source": [
    "rnd_num_b.hist(bins=9) # Creates a histogram with 5 bins"
   ]
  },
  {
   "cell_type": "code",
   "execution_count": 19,
   "metadata": {},
   "outputs": [],
   "source": [
    "calls_df['OutreachDate'] = pd.to_datetime(calls_df['OutreachDate'])"
   ]
  },
  {
   "cell_type": "code",
   "execution_count": 20,
   "metadata": {},
   "outputs": [],
   "source": [
    "calls_df['CallDate'] = calls_df['OutreachDate'] + pd.to_timedelta(calls_df['CallLag'], unit='D')"
   ]
  },
  {
   "cell_type": "code",
   "execution_count": 21,
   "metadata": {},
   "outputs": [],
   "source": [
    "nums_rsp = pd.Series(np.arange(10001,len(calls_df) + 10001,1))\n",
    "call_rsp = pd.Series('RSP', index=range(len(calls_df)))\n",
    "calls_df['CallNum'] = nums_rsp\n",
    "calls_df['CallRsp'] = call_rsp\n",
    "calls_df['CallID'] = calls_df['CallRsp'] + calls_df['CallNum'].astype(str)"
   ]
  },
  {
   "cell_type": "code",
   "execution_count": 22,
   "metadata": {},
   "outputs": [],
   "source": [
    "calls_df = calls_df.drop(columns=['LetterID', 'FollowupInd','OutreachSegment','CallNum','CallRsp']) \n",
    "new_order = ['CallID', 'OutreachID','ContactID','OutreachDate','CallDate', 'CallLag']\n",
    "calls_df = calls_df[new_order]"
   ]
  },
  {
   "cell_type": "code",
   "execution_count": 23,
   "metadata": {},
   "outputs": [
    {
     "data": {
      "text/html": [
       "<div>\n",
       "<style scoped>\n",
       "    .dataframe tbody tr th:only-of-type {\n",
       "        vertical-align: middle;\n",
       "    }\n",
       "\n",
       "    .dataframe tbody tr th {\n",
       "        vertical-align: top;\n",
       "    }\n",
       "\n",
       "    .dataframe thead th {\n",
       "        text-align: right;\n",
       "    }\n",
       "</style>\n",
       "<table border=\"1\" class=\"dataframe\">\n",
       "  <thead>\n",
       "    <tr style=\"text-align: right;\">\n",
       "      <th></th>\n",
       "      <th>CallID</th>\n",
       "      <th>OutreachID</th>\n",
       "      <th>ContactID</th>\n",
       "      <th>OutreachDate</th>\n",
       "      <th>CallDate</th>\n",
       "      <th>CallLag</th>\n",
       "    </tr>\n",
       "  </thead>\n",
       "  <tbody>\n",
       "    <tr>\n",
       "      <th>0</th>\n",
       "      <td>RSP10001</td>\n",
       "      <td>OUT111865</td>\n",
       "      <td>PA16865</td>\n",
       "      <td>2025-02-01</td>\n",
       "      <td>2025-02-14</td>\n",
       "      <td>13.0</td>\n",
       "    </tr>\n",
       "    <tr>\n",
       "      <th>1</th>\n",
       "      <td>RSP10002</td>\n",
       "      <td>OUT114641</td>\n",
       "      <td>PA19641</td>\n",
       "      <td>2025-02-01</td>\n",
       "      <td>2025-02-16</td>\n",
       "      <td>15.0</td>\n",
       "    </tr>\n",
       "    <tr>\n",
       "      <th>2</th>\n",
       "      <td>RSP10003</td>\n",
       "      <td>OUT143525</td>\n",
       "      <td>PA33525</td>\n",
       "      <td>2025-05-01</td>\n",
       "      <td>2025-05-14</td>\n",
       "      <td>13.0</td>\n",
       "    </tr>\n",
       "    <tr>\n",
       "      <th>3</th>\n",
       "      <td>RSP10004</td>\n",
       "      <td>OUT133461</td>\n",
       "      <td>PA28461</td>\n",
       "      <td>2025-04-01</td>\n",
       "      <td>2025-04-06</td>\n",
       "      <td>5.0</td>\n",
       "    </tr>\n",
       "    <tr>\n",
       "      <th>4</th>\n",
       "      <td>RSP10005</td>\n",
       "      <td>OUT111217</td>\n",
       "      <td>PA16217</td>\n",
       "      <td>2025-02-01</td>\n",
       "      <td>2025-02-04</td>\n",
       "      <td>3.0</td>\n",
       "    </tr>\n",
       "    <tr>\n",
       "      <th>...</th>\n",
       "      <td>...</td>\n",
       "      <td>...</td>\n",
       "      <td>...</td>\n",
       "      <td>...</td>\n",
       "      <td>...</td>\n",
       "      <td>...</td>\n",
       "    </tr>\n",
       "    <tr>\n",
       "      <th>10995</th>\n",
       "      <td>RSP20996</td>\n",
       "      <td>OUT195272</td>\n",
       "      <td>MD55272</td>\n",
       "      <td>2025-10-01</td>\n",
       "      <td>2025-10-20</td>\n",
       "      <td>19.0</td>\n",
       "    </tr>\n",
       "    <tr>\n",
       "      <th>10996</th>\n",
       "      <td>RSP20997</td>\n",
       "      <td>OUT177968</td>\n",
       "      <td>MD47968</td>\n",
       "      <td>2025-08-01</td>\n",
       "      <td>2025-08-21</td>\n",
       "      <td>20.0</td>\n",
       "    </tr>\n",
       "    <tr>\n",
       "      <th>10997</th>\n",
       "      <td>RSP20998</td>\n",
       "      <td>OUT155908</td>\n",
       "      <td>MD35908</td>\n",
       "      <td>2025-06-01</td>\n",
       "      <td>2025-06-17</td>\n",
       "      <td>16.0</td>\n",
       "    </tr>\n",
       "    <tr>\n",
       "      <th>10998</th>\n",
       "      <td>RSP20999</td>\n",
       "      <td>OUT185620</td>\n",
       "      <td>MD50620</td>\n",
       "      <td>2025-09-01</td>\n",
       "      <td>2025-10-05</td>\n",
       "      <td>34.0</td>\n",
       "    </tr>\n",
       "    <tr>\n",
       "      <th>10999</th>\n",
       "      <td>RSP21000</td>\n",
       "      <td>OUT179928</td>\n",
       "      <td>MD49928</td>\n",
       "      <td>2025-08-01</td>\n",
       "      <td>2025-09-08</td>\n",
       "      <td>38.0</td>\n",
       "    </tr>\n",
       "  </tbody>\n",
       "</table>\n",
       "<p>11000 rows × 6 columns</p>\n",
       "</div>"
      ],
      "text/plain": [
       "         CallID OutreachID ContactID OutreachDate   CallDate  CallLag\n",
       "0      RSP10001  OUT111865   PA16865   2025-02-01 2025-02-14     13.0\n",
       "1      RSP10002  OUT114641   PA19641   2025-02-01 2025-02-16     15.0\n",
       "2      RSP10003  OUT143525   PA33525   2025-05-01 2025-05-14     13.0\n",
       "3      RSP10004  OUT133461   PA28461   2025-04-01 2025-04-06      5.0\n",
       "4      RSP10005  OUT111217   PA16217   2025-02-01 2025-02-04      3.0\n",
       "...         ...        ...       ...          ...        ...      ...\n",
       "10995  RSP20996  OUT195272   MD55272   2025-10-01 2025-10-20     19.0\n",
       "10996  RSP20997  OUT177968   MD47968   2025-08-01 2025-08-21     20.0\n",
       "10997  RSP20998  OUT155908   MD35908   2025-06-01 2025-06-17     16.0\n",
       "10998  RSP20999  OUT185620   MD50620   2025-09-01 2025-10-05     34.0\n",
       "10999  RSP21000  OUT179928   MD49928   2025-08-01 2025-09-08     38.0\n",
       "\n",
       "[11000 rows x 6 columns]"
      ]
     },
     "execution_count": 23,
     "metadata": {},
     "output_type": "execute_result"
    }
   ],
   "source": [
    "calls_df"
   ]
  },
  {
   "cell_type": "markdown",
   "metadata": {},
   "source": [
    "Add a little randomnness by only pulling 90% of the calls."
   ]
  },
  {
   "cell_type": "code",
   "execution_count": 24,
   "metadata": {},
   "outputs": [],
   "source": [
    "calls_df = calls_df.sample(frac=0.90)"
   ]
  },
  {
   "cell_type": "code",
   "execution_count": 25,
   "metadata": {},
   "outputs": [
    {
     "data": {
      "text/html": [
       "<div>\n",
       "<style scoped>\n",
       "    .dataframe tbody tr th:only-of-type {\n",
       "        vertical-align: middle;\n",
       "    }\n",
       "\n",
       "    .dataframe tbody tr th {\n",
       "        vertical-align: top;\n",
       "    }\n",
       "\n",
       "    .dataframe thead th {\n",
       "        text-align: right;\n",
       "    }\n",
       "</style>\n",
       "<table border=\"1\" class=\"dataframe\">\n",
       "  <thead>\n",
       "    <tr style=\"text-align: right;\">\n",
       "      <th></th>\n",
       "      <th>CallID</th>\n",
       "      <th>OutreachID</th>\n",
       "      <th>ContactID</th>\n",
       "      <th>OutreachDate</th>\n",
       "      <th>CallDate</th>\n",
       "      <th>CallLag</th>\n",
       "    </tr>\n",
       "  </thead>\n",
       "  <tbody>\n",
       "    <tr>\n",
       "      <th>10929</th>\n",
       "      <td>RSP20930</td>\n",
       "      <td>OUT195292</td>\n",
       "      <td>MD55292</td>\n",
       "      <td>2025-10-01</td>\n",
       "      <td>2025-11-11</td>\n",
       "      <td>41.0</td>\n",
       "    </tr>\n",
       "    <tr>\n",
       "      <th>7742</th>\n",
       "      <td>RSP17743</td>\n",
       "      <td>OUT142740</td>\n",
       "      <td>PA32740</td>\n",
       "      <td>2025-05-01</td>\n",
       "      <td>2025-05-22</td>\n",
       "      <td>21.0</td>\n",
       "    </tr>\n",
       "    <tr>\n",
       "      <th>8965</th>\n",
       "      <td>RSP18966</td>\n",
       "      <td>OUT160756</td>\n",
       "      <td>PA40756</td>\n",
       "      <td>2025-07-01</td>\n",
       "      <td>2025-07-23</td>\n",
       "      <td>22.0</td>\n",
       "    </tr>\n",
       "    <tr>\n",
       "      <th>3285</th>\n",
       "      <td>RSP13286</td>\n",
       "      <td>OUT164091</td>\n",
       "      <td>PA44091</td>\n",
       "      <td>2025-07-01</td>\n",
       "      <td>2025-07-05</td>\n",
       "      <td>4.0</td>\n",
       "    </tr>\n",
       "    <tr>\n",
       "      <th>2047</th>\n",
       "      <td>RSP12048</td>\n",
       "      <td>OUT190789</td>\n",
       "      <td>PA55789</td>\n",
       "      <td>2025-10-01</td>\n",
       "      <td>2025-10-21</td>\n",
       "      <td>20.0</td>\n",
       "    </tr>\n",
       "    <tr>\n",
       "      <th>...</th>\n",
       "      <td>...</td>\n",
       "      <td>...</td>\n",
       "      <td>...</td>\n",
       "      <td>...</td>\n",
       "      <td>...</td>\n",
       "      <td>...</td>\n",
       "    </tr>\n",
       "    <tr>\n",
       "      <th>3904</th>\n",
       "      <td>RSP13905</td>\n",
       "      <td>OUT147005</td>\n",
       "      <td>MD32005</td>\n",
       "      <td>2025-05-01</td>\n",
       "      <td>2025-05-10</td>\n",
       "      <td>9.0</td>\n",
       "    </tr>\n",
       "    <tr>\n",
       "      <th>5969</th>\n",
       "      <td>RSP15970</td>\n",
       "      <td>OUT197739</td>\n",
       "      <td>MD57739</td>\n",
       "      <td>2025-10-01</td>\n",
       "      <td>2025-10-20</td>\n",
       "      <td>19.0</td>\n",
       "    </tr>\n",
       "    <tr>\n",
       "      <th>1993</th>\n",
       "      <td>RSP11994</td>\n",
       "      <td>OUT172285</td>\n",
       "      <td>PA47285</td>\n",
       "      <td>2025-08-01</td>\n",
       "      <td>2025-08-24</td>\n",
       "      <td>23.0</td>\n",
       "    </tr>\n",
       "    <tr>\n",
       "      <th>5665</th>\n",
       "      <td>RSP15666</td>\n",
       "      <td>OUT179017</td>\n",
       "      <td>MD49017</td>\n",
       "      <td>2025-08-01</td>\n",
       "      <td>2025-08-31</td>\n",
       "      <td>30.0</td>\n",
       "    </tr>\n",
       "    <tr>\n",
       "      <th>6582</th>\n",
       "      <td>RSP16583</td>\n",
       "      <td>OUT113406</td>\n",
       "      <td>PA18406</td>\n",
       "      <td>2025-02-01</td>\n",
       "      <td>2025-02-25</td>\n",
       "      <td>24.0</td>\n",
       "    </tr>\n",
       "  </tbody>\n",
       "</table>\n",
       "<p>9900 rows × 6 columns</p>\n",
       "</div>"
      ],
      "text/plain": [
       "         CallID OutreachID ContactID OutreachDate   CallDate  CallLag\n",
       "10929  RSP20930  OUT195292   MD55292   2025-10-01 2025-11-11     41.0\n",
       "7742   RSP17743  OUT142740   PA32740   2025-05-01 2025-05-22     21.0\n",
       "8965   RSP18966  OUT160756   PA40756   2025-07-01 2025-07-23     22.0\n",
       "3285   RSP13286  OUT164091   PA44091   2025-07-01 2025-07-05      4.0\n",
       "2047   RSP12048  OUT190789   PA55789   2025-10-01 2025-10-21     20.0\n",
       "...         ...        ...       ...          ...        ...      ...\n",
       "3904   RSP13905  OUT147005   MD32005   2025-05-01 2025-05-10      9.0\n",
       "5969   RSP15970  OUT197739   MD57739   2025-10-01 2025-10-20     19.0\n",
       "1993   RSP11994  OUT172285   PA47285   2025-08-01 2025-08-24     23.0\n",
       "5665   RSP15666  OUT179017   MD49017   2025-08-01 2025-08-31     30.0\n",
       "6582   RSP16583  OUT113406   PA18406   2025-02-01 2025-02-25     24.0\n",
       "\n",
       "[9900 rows x 6 columns]"
      ]
     },
     "execution_count": 25,
     "metadata": {},
     "output_type": "execute_result"
    }
   ],
   "source": [
    "calls_df"
   ]
  },
  {
   "cell_type": "markdown",
   "metadata": {},
   "source": [
    "### Make a dataframe of submitted applications\n",
    "\n",
    "Assume that 90% of the calls from PA outreach resulted in an application and 80% of the calls in MD resulted in an application.\n",
    "\n",
    "This is based on the assumption that the list provided by the PA agency was more likely to contact successful applicants"
   ]
  },
  {
   "cell_type": "markdown",
   "metadata": {},
   "source": [
    "### Columns\n",
    "\n",
    "- **AppID:** Unique identifier for the application\n",
    "- **CallID:** Foreign Key to the call table\n",
    "- **ContactID:** Foreign Key to the contact table\n",
    "- **SubmissionDate:** Date of the application submission (same as call date in this scenario)"
   ]
  },
  {
   "cell_type": "code",
   "execution_count": 26,
   "metadata": {},
   "outputs": [],
   "source": [
    "apps_pa = calls_df.loc[calls_df['ContactID'].str.startswith('PA'),('ContactID','CallID','CallDate')].sample(frac=0.9)\n",
    "apps_md = calls_df.loc[calls_df['ContactID'].str.startswith('MD'),('ContactID','CallID','CallDate')].sample(frac=0.8)"
   ]
  },
  {
   "cell_type": "code",
   "execution_count": 27,
   "metadata": {},
   "outputs": [],
   "source": [
    "applications_df = pd.concat([apps_pa, apps_md], ignore_index = True)\n",
    "applications_df = applications_df.rename(columns={'CallDate': 'SubmissionDate'})"
   ]
  },
  {
   "cell_type": "code",
   "execution_count": 28,
   "metadata": {},
   "outputs": [],
   "source": [
    "nums_app = pd.Series(np.arange(10001,len(applications_df) + 10001,1))\n",
    "call_app = pd.Series('APP', index=range(len(applications_df)))\n",
    "applications_df['AppNum'] = nums_app\n",
    "applications_df['AppRsp'] = call_app\n",
    "applications_df['AppID'] = applications_df['AppRsp'] + applications_df['AppNum'].astype(str)"
   ]
  },
  {
   "cell_type": "code",
   "execution_count": 29,
   "metadata": {},
   "outputs": [],
   "source": [
    "#calls_df = calls_df.drop(columns=['AppNum', 'AppRsp']) \n",
    "new_order = ['AppID', 'CallID','ContactID','SubmissionDate']\n",
    "applications_df = applications_df[new_order]"
   ]
  },
  {
   "cell_type": "code",
   "execution_count": 30,
   "metadata": {},
   "outputs": [
    {
     "data": {
      "text/html": [
       "<div>\n",
       "<style scoped>\n",
       "    .dataframe tbody tr th:only-of-type {\n",
       "        vertical-align: middle;\n",
       "    }\n",
       "\n",
       "    .dataframe tbody tr th {\n",
       "        vertical-align: top;\n",
       "    }\n",
       "\n",
       "    .dataframe thead th {\n",
       "        text-align: right;\n",
       "    }\n",
       "</style>\n",
       "<table border=\"1\" class=\"dataframe\">\n",
       "  <thead>\n",
       "    <tr style=\"text-align: right;\">\n",
       "      <th></th>\n",
       "      <th>AppID</th>\n",
       "      <th>CallID</th>\n",
       "      <th>ContactID</th>\n",
       "      <th>SubmissionDate</th>\n",
       "    </tr>\n",
       "  </thead>\n",
       "  <tbody>\n",
       "    <tr>\n",
       "      <th>0</th>\n",
       "      <td>APP10001</td>\n",
       "      <td>RSP12698</td>\n",
       "      <td>PA43613</td>\n",
       "      <td>2025-07-11</td>\n",
       "    </tr>\n",
       "    <tr>\n",
       "      <th>1</th>\n",
       "      <td>APP10002</td>\n",
       "      <td>RSP16938</td>\n",
       "      <td>PA13782</td>\n",
       "      <td>2025-01-27</td>\n",
       "    </tr>\n",
       "    <tr>\n",
       "      <th>2</th>\n",
       "      <td>APP10003</td>\n",
       "      <td>RSP11937</td>\n",
       "      <td>PA20751</td>\n",
       "      <td>2025-03-14</td>\n",
       "    </tr>\n",
       "    <tr>\n",
       "      <th>3</th>\n",
       "      <td>APP10004</td>\n",
       "      <td>RSP10977</td>\n",
       "      <td>PA23793</td>\n",
       "      <td>2025-03-06</td>\n",
       "    </tr>\n",
       "    <tr>\n",
       "      <th>4</th>\n",
       "      <td>APP10005</td>\n",
       "      <td>RSP10624</td>\n",
       "      <td>PA12189</td>\n",
       "      <td>2025-01-03</td>\n",
       "    </tr>\n",
       "    <tr>\n",
       "      <th>...</th>\n",
       "      <td>...</td>\n",
       "      <td>...</td>\n",
       "      <td>...</td>\n",
       "      <td>...</td>\n",
       "    </tr>\n",
       "    <tr>\n",
       "      <th>8461</th>\n",
       "      <td>APP18462</td>\n",
       "      <td>RSP20691</td>\n",
       "      <td>MD38904</td>\n",
       "      <td>2025-06-18</td>\n",
       "    </tr>\n",
       "    <tr>\n",
       "      <th>8462</th>\n",
       "      <td>APP18463</td>\n",
       "      <td>RSP19409</td>\n",
       "      <td>MD26998</td>\n",
       "      <td>2025-04-24</td>\n",
       "    </tr>\n",
       "    <tr>\n",
       "      <th>8463</th>\n",
       "      <td>APP18464</td>\n",
       "      <td>RSP16038</td>\n",
       "      <td>MD35019</td>\n",
       "      <td>2025-06-08</td>\n",
       "    </tr>\n",
       "    <tr>\n",
       "      <th>8464</th>\n",
       "      <td>APP18465</td>\n",
       "      <td>RSP16378</td>\n",
       "      <td>MD44467</td>\n",
       "      <td>2025-07-18</td>\n",
       "    </tr>\n",
       "    <tr>\n",
       "      <th>8465</th>\n",
       "      <td>APP18466</td>\n",
       "      <td>RSP15927</td>\n",
       "      <td>MD45557</td>\n",
       "      <td>2025-08-04</td>\n",
       "    </tr>\n",
       "  </tbody>\n",
       "</table>\n",
       "<p>8466 rows × 4 columns</p>\n",
       "</div>"
      ],
      "text/plain": [
       "         AppID    CallID ContactID SubmissionDate\n",
       "0     APP10001  RSP12698   PA43613     2025-07-11\n",
       "1     APP10002  RSP16938   PA13782     2025-01-27\n",
       "2     APP10003  RSP11937   PA20751     2025-03-14\n",
       "3     APP10004  RSP10977   PA23793     2025-03-06\n",
       "4     APP10005  RSP10624   PA12189     2025-01-03\n",
       "...        ...       ...       ...            ...\n",
       "8461  APP18462  RSP20691   MD38904     2025-06-18\n",
       "8462  APP18463  RSP19409   MD26998     2025-04-24\n",
       "8463  APP18464  RSP16038   MD35019     2025-06-08\n",
       "8464  APP18465  RSP16378   MD44467     2025-07-18\n",
       "8465  APP18466  RSP15927   MD45557     2025-08-04\n",
       "\n",
       "[8466 rows x 4 columns]"
      ]
     },
     "execution_count": 30,
     "metadata": {},
     "output_type": "execute_result"
    }
   ],
   "source": [
    "applications_df"
   ]
  },
  {
   "cell_type": "markdown",
   "metadata": {},
   "source": [
    "### Make dataframe of enrollment\n",
    "\n",
    "This table will contain a record for every submissed application and then an indicator of the status, which might be ENR (enrolled), DEN (denied), or UNK (unknown).\n",
    "\n",
    "The outcomes are randomly assigned according to a distribution.  In PA, 60% enrolled, 30% denied, and 10% unknown.  In MD, 70% enrolled, 20% denied, and 10% unknown.\n",
    "\n",
    "This is based on the assumption, that once an application is submitted, the barriers to enrollment are lower in MD. "
   ]
  },
  {
   "cell_type": "markdown",
   "metadata": {},
   "source": [
    "### Columns\n",
    "\n",
    "- **AppID:** Foreign Key to the application table\n",
    "- **EnrollOutcome:** Outcome of the application submission as reported by the state agency"
   ]
  },
  {
   "cell_type": "code",
   "execution_count": 31,
   "metadata": {
    "scrolled": true
   },
   "outputs": [],
   "source": [
    "enr_pa = applications_df.loc[applications_df['ContactID'].str.startswith('PA'),'AppID']\n",
    "enr_md = applications_df.loc[applications_df['ContactID'].str.startswith('MD'),'AppID']\n",
    "enr_pa_df = pd.DataFrame({'AppID': enr_pa})\n",
    "enr_md_df = pd.DataFrame({'AppID': enr_md})"
   ]
  },
  {
   "cell_type": "code",
   "execution_count": 32,
   "metadata": {},
   "outputs": [],
   "source": [
    "categories_pa = ['UNK','DEN','DEN','DEN','ENR','ENR','ENR','ENR','ENR','ENR']\n",
    "categories_md = ['UNK','DEN','DEN','ENR','ENR','ENR','ENR','ENR','ENR','ENR']\n",
    "enr_pa_df['EnrollOutcome'] = np.random.choice(categories_pa, size=len(enr_pa_df), replace=True)\n",
    "enr_md_df['EnrollOutcome'] = np.random.choice(categories_md, size=len(enr_md_df), replace=True)\n"
   ]
  },
  {
   "cell_type": "code",
   "execution_count": 33,
   "metadata": {},
   "outputs": [],
   "source": [
    "enrollment_df = pd.concat([enr_pa_df,enr_md_df],ignore_index=True)"
   ]
  },
  {
   "cell_type": "code",
   "execution_count": 34,
   "metadata": {},
   "outputs": [
    {
     "data": {
      "text/html": [
       "<div>\n",
       "<style scoped>\n",
       "    .dataframe tbody tr th:only-of-type {\n",
       "        vertical-align: middle;\n",
       "    }\n",
       "\n",
       "    .dataframe tbody tr th {\n",
       "        vertical-align: top;\n",
       "    }\n",
       "\n",
       "    .dataframe thead th {\n",
       "        text-align: right;\n",
       "    }\n",
       "</style>\n",
       "<table border=\"1\" class=\"dataframe\">\n",
       "  <thead>\n",
       "    <tr style=\"text-align: right;\">\n",
       "      <th></th>\n",
       "      <th>AppID</th>\n",
       "      <th>EnrollOutcome</th>\n",
       "    </tr>\n",
       "  </thead>\n",
       "  <tbody>\n",
       "    <tr>\n",
       "      <th>0</th>\n",
       "      <td>APP10001</td>\n",
       "      <td>ENR</td>\n",
       "    </tr>\n",
       "    <tr>\n",
       "      <th>1</th>\n",
       "      <td>APP10002</td>\n",
       "      <td>DEN</td>\n",
       "    </tr>\n",
       "    <tr>\n",
       "      <th>2</th>\n",
       "      <td>APP10003</td>\n",
       "      <td>ENR</td>\n",
       "    </tr>\n",
       "    <tr>\n",
       "      <th>3</th>\n",
       "      <td>APP10004</td>\n",
       "      <td>ENR</td>\n",
       "    </tr>\n",
       "    <tr>\n",
       "      <th>4</th>\n",
       "      <td>APP10005</td>\n",
       "      <td>ENR</td>\n",
       "    </tr>\n",
       "    <tr>\n",
       "      <th>...</th>\n",
       "      <td>...</td>\n",
       "      <td>...</td>\n",
       "    </tr>\n",
       "    <tr>\n",
       "      <th>8461</th>\n",
       "      <td>APP18462</td>\n",
       "      <td>ENR</td>\n",
       "    </tr>\n",
       "    <tr>\n",
       "      <th>8462</th>\n",
       "      <td>APP18463</td>\n",
       "      <td>ENR</td>\n",
       "    </tr>\n",
       "    <tr>\n",
       "      <th>8463</th>\n",
       "      <td>APP18464</td>\n",
       "      <td>ENR</td>\n",
       "    </tr>\n",
       "    <tr>\n",
       "      <th>8464</th>\n",
       "      <td>APP18465</td>\n",
       "      <td>DEN</td>\n",
       "    </tr>\n",
       "    <tr>\n",
       "      <th>8465</th>\n",
       "      <td>APP18466</td>\n",
       "      <td>ENR</td>\n",
       "    </tr>\n",
       "  </tbody>\n",
       "</table>\n",
       "<p>8466 rows × 2 columns</p>\n",
       "</div>"
      ],
      "text/plain": [
       "         AppID EnrollOutcome\n",
       "0     APP10001           ENR\n",
       "1     APP10002           DEN\n",
       "2     APP10003           ENR\n",
       "3     APP10004           ENR\n",
       "4     APP10005           ENR\n",
       "...        ...           ...\n",
       "8461  APP18462           ENR\n",
       "8462  APP18463           ENR\n",
       "8463  APP18464           ENR\n",
       "8464  APP18465           DEN\n",
       "8465  APP18466           ENR\n",
       "\n",
       "[8466 rows x 2 columns]"
      ]
     },
     "execution_count": 34,
     "metadata": {},
     "output_type": "execute_result"
    }
   ],
   "source": [
    "enrollment_df"
   ]
  },
  {
   "cell_type": "markdown",
   "metadata": {},
   "source": [
    "### Export the tables to CSV files"
   ]
  },
  {
   "cell_type": "code",
   "execution_count": 35,
   "metadata": {},
   "outputs": [],
   "source": [
    "outreach_df.to_csv('outreach.csv', index = False)\n",
    "calls_df.to_csv('calls.csv', index = False)\n",
    "applications_df.to_csv('applications.csv', index = False)\n",
    "enrollment_df.to_csv('enroll.csv', index = False)"
   ]
  },
  {
   "cell_type": "code",
   "execution_count": 36,
   "metadata": {},
   "outputs": [],
   "source": [
    "contacts_df.to_csv('contacts.csv', index = False)"
   ]
  },
  {
   "cell_type": "code",
   "execution_count": null,
   "metadata": {},
   "outputs": [],
   "source": []
  }
 ],
 "metadata": {
  "kernelspec": {
   "display_name": "Python [conda env:base] *",
   "language": "python",
   "name": "conda-base-py"
  },
  "language_info": {
   "codemirror_mode": {
    "name": "ipython",
    "version": 3
   },
   "file_extension": ".py",
   "mimetype": "text/x-python",
   "name": "python",
   "nbconvert_exporter": "python",
   "pygments_lexer": "ipython3",
   "version": "3.13.5"
  },
  "panel-cell-order": [
   "bc32d3cd"
  ]
 },
 "nbformat": 4,
 "nbformat_minor": 4
}
